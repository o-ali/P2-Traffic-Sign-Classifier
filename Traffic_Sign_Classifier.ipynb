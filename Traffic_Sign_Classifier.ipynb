{
 "cells": [
  {
   "cell_type": "markdown",
   "metadata": {},
   "source": [
    "# Self-Driving Car Engineer Nanodegree\n",
    "\n",
    "## Deep Learning\n",
    "\n",
    "## Project: Build a Traffic Sign Recognition Classifier"
   ]
  },
  {
   "cell_type": "markdown",
   "metadata": {},
   "source": [
    "---\n",
    "## Step 0: Load The Data"
   ]
  },
  {
   "cell_type": "code",
   "execution_count": 1,
   "metadata": {
    "collapsed": true
   },
   "outputs": [],
   "source": [
    "# Load pickled data\n",
    "import pickle\n",
    "import numpy as np\n",
    "import cv2\n",
    "from pylab import array, arange\n",
    "from sklearn import preprocessing\n",
    "# TODO: Fill this in based on where you saved the training and testing data\n",
    "training_file = \"traffic-signs-data/train.p\"\n",
    "validation_file= \"traffic-signs-data/valid.p\"\n",
    "testing_file = \"traffic-signs-data/test.p\"\n",
    "\n",
    "with open(training_file, mode='rb') as f:\n",
    "    train = pickle.load(f)\n",
    "with open(validation_file, mode='rb') as f:\n",
    "    valid = pickle.load(f)\n",
    "with open(testing_file, mode='rb') as f:\n",
    "    test = pickle.load(f)\n",
    "    \n",
    "X_train, y_train = train['features'], train['labels']\n",
    "X_valid, y_valid = valid['features'], valid['labels']\n",
    "X_test, y_test = test['features'], test['labels']"
   ]
  },
  {
   "cell_type": "markdown",
   "metadata": {},
   "source": [
    "---\n",
    "\n",
    "## Step 1: Dataset Summary & Exploration\n",
    "\n",
    "The pickled data is a dictionary with 4 key/value pairs:\n",
    "\n",
    "- `'features'` is a 4D array containing raw pixel data of the traffic sign images, (num examples, width, height, channels).\n",
    "- `'labels'` is a 1D array containing the label/class id of the traffic sign. The file `signnames.csv` contains id -> name mappings for each id.\n",
    "- `'sizes'` is a list containing tuples, (width, height) representing the original width and height the image.\n",
    "- `'coords'` is a list containing tuples, (x1, y1, x2, y2) representing coordinates of a bounding box around the sign in the image. **THESE COORDINATES ASSUME THE ORIGINAL IMAGE. THE PICKLED DATA CONTAINS RESIZED VERSIONS (32 by 32) OF THESE IMAGES**\n",
    "\n",
    "Complete the basic data summary below. Use python, numpy and/or pandas methods to calculate the data summary rather than hard coding the results. For example, the [pandas shape method](http://pandas.pydata.org/pandas-docs/stable/generated/pandas.DataFrame.shape.html) might be useful for calculating some of the summary results. "
   ]
  },
  {
   "cell_type": "markdown",
   "metadata": {},
   "source": [
    "### Provide a Basic Summary of the Data Set Using Python, Numpy and/or Pandas"
   ]
  },
  {
   "cell_type": "code",
   "execution_count": 44,
   "metadata": {},
   "outputs": [
    {
     "name": "stdout",
     "output_type": "stream",
     "text": [
      "Number of training examples = 38224\n",
      "Number of testing examples = 12630\n",
      "Image data shape = (32, 32, 1)\n",
      "Number of classes = 43\n"
     ]
    }
   ],
   "source": [
    "### Replace each question mark with the appropriate value. \n",
    "### Use python, pandas or numpy methods rather than hard coding the results\n",
    "\n",
    "# TODO: Number of training examples\n",
    "n_train = len(X_train)\n",
    "\n",
    "# TODO: Number of validation examples\n",
    "n_validation = len(X_valid)\n",
    "\n",
    "# TODO: Number of testing examples.\n",
    "n_test = len(y_test)\n",
    "\n",
    "# TODO: What's the shape of an traffic sign image?\n",
    "image_shape = X_train[0].shape\n",
    "\n",
    "# TODO: How many unique classes/labels there are in the dataset.\n",
    "n_classes = len(np.unique(y_train))\n",
    "\n",
    "print(\"Number of training examples =\", n_train)\n",
    "print(\"Number of testing examples =\", n_test)\n",
    "print(\"Image data shape =\", image_shape)\n",
    "print(\"Number of classes =\", n_classes)"
   ]
  },
  {
   "cell_type": "markdown",
   "metadata": {},
   "source": [
    "### Include an exploratory visualization of the dataset"
   ]
  },
  {
   "cell_type": "markdown",
   "metadata": {},
   "source": [
    "Visualize the German Traffic Signs Dataset using the pickled file(s). This is open ended, suggestions include: plotting traffic sign images, plotting the count of each sign, etc. \n",
    "\n",
    "The [Matplotlib](http://matplotlib.org/) [examples](http://matplotlib.org/examples/index.html) and [gallery](http://matplotlib.org/gallery.html) pages are a great resource for doing visualizations in Python.\n",
    "\n",
    "**NOTE:** It's recommended you start with something simple first. If you wish to do more, come back to it after you've completed the rest of the sections. It can be interesting to look at the distribution of classes in the training, validation and test set. Is the distribution the same? Are there more examples of some classes than others?"
   ]
  },
  {
   "cell_type": "markdown",
   "metadata": {},
   "source": [
    "## Visualizing the datasets"
   ]
  },
  {
   "cell_type": "code",
   "execution_count": 3,
   "metadata": {},
   "outputs": [
    {
     "name": "stdout",
     "output_type": "stream",
     "text": [
      "Number of Samples in each training class\n"
     ]
    },
    {
     "data": {
      "image/png": "[encoded data removed]",
      "text/plain": [
       "<matplotlib.figure.Figure at 0x196b0587cc0>"
      ]
     },
     "metadata": {},
     "output_type": "display_data"
    },
    {
     "name": "stdout",
     "output_type": "stream",
     "text": [
      "Number of Samples in each testing class\n"
     ]
    },
    {
     "data": {
      "image/png": "[encoded data removed]",
      "text/plain": [
       "<matplotlib.figure.Figure at 0x196b0594cf8>"
      ]
     },
     "metadata": {},
     "output_type": "display_data"
    }
   ],
   "source": [
    "### Data exploration visualization code goes here.\n",
    "### Feel free to use as many code cells as needed.\n",
    "\n",
    "import matplotlib.pyplot as plt\n",
    "# Visualizations will be shown in the notebook.\n",
    "%matplotlib inline\n",
    "#Runs through the data and creates a graph to display the number of samples per class\n",
    "#display samples per class for training and testing set\n",
    "def showAveragePerClass(X_list,y_list,n_classes):\n",
    "    n_samples_per_class = np.zeros(n_classes)\n",
    "    repr_class_im = np.zeros((43,32,32))\n",
    "                             \n",
    "    for i in range(0,n_classes):\n",
    "        avg_im = np.zeros((32,32))\n",
    "        im = np.zeros(image_shape)\n",
    "        for j in range(0,len(X_list)):\n",
    "            if(y_list[j] == i):\n",
    "                n_samples_per_class[i] = n_samples_per_class[i] + 1\n",
    "                im = np.mean(X_list[j].squeeze(),axis=2)\n",
    "                avg_im = avg_im + im\n",
    "    plt.bar(range(43),n_samples_per_class)\n",
    "    plt.show()\n",
    "    return n_samples_per_class,repr_class_im\n",
    "\n",
    "print('Number of Samples in each training class')\n",
    "n_samples_per_class_train,repr_class_im_train = showAveragePerClass(X_train,y_train,n_classes)\n",
    "print('Number of Samples in each testing class')\n",
    "n_samples_per_class_test,repr_class_im_test = showAveragePerClass(X_test,y_test,n_classes)"
   ]
  },
  {
   "cell_type": "markdown",
   "metadata": {},
   "source": [
    "----\n",
    "\n",
    "## Step 2: Design and Test a Model Architecture\n",
    "\n",
    "Design and implement a deep learning model that learns to recognize traffic signs. Train and test your model on the [German Traffic Sign Dataset](http://benchmark.ini.rub.de/?section=gtsrb&subsection=dataset).\n",
    "\n",
    "The LeNet-5 implementation shown in the [classroom](https://classroom.udacity.com/nanodegrees/nd013/parts/fbf77062-5703-404e-b60c-95b78b2f3f9e/modules/6df7ae49-c61c-4bb2-a23e-6527e69209ec/lessons/601ae704-1035-4287-8b11-e2c2716217ad/concepts/d4aca031-508f-4e0b-b493-e7b706120f81) at the end of the CNN lesson is a solid starting point. You'll have to change the number of classes and possibly the preprocessing, but aside from that it's plug and play! \n",
    "\n",
    "With the LeNet-5 solution from the lecture, you should expect a validation set accuracy of about 0.89. To meet specifications, the validation set accuracy will need to be at least 0.93. It is possible to get an even higher accuracy, but 0.93 is the minimum for a successful project submission. \n",
    "\n",
    "There are various aspects to consider when thinking about this problem:\n",
    "\n",
    "- Neural network architecture (is the network over or underfitting?)\n",
    "- Play around preprocessing techniques (normalization, rgb to grayscale, etc)\n",
    "- Number of examples per label (some have more than others).\n",
    "- Generate fake data.\n",
    "\n",
    "Here is an example of a [published baseline model on this problem](http://yann.lecun.com/exdb/publis/pdf/sermanet-ijcnn-11.pdf). It's not required to be familiar with the approach used in the paper but, it's good practice to try to read papers like these."
   ]
  },
  {
   "cell_type": "markdown",
   "metadata": {},
   "source": [
    "### Pre-process the Data Set (normalization, grayscale, etc.)"
   ]
  },
  {
   "cell_type": "markdown",
   "metadata": {},
   "source": [
    "Minimally, the image data should be normalized so that the data has mean zero and equal variance. For image data, `(pixel - 128)/ 128` is a quick way to approximately normalize the data and can be used in this project. \n",
    "\n",
    "Other pre-processing steps are optional. You can try different techniques to see if it improves performance. \n",
    "\n",
    "Use the code cell (or multiple code cells, if necessary) to implement the first step of your project."
   ]
  },
  {
   "cell_type": "markdown",
   "metadata": {
    "collapsed": true
   },
   "source": [
    "### Description of Pre-Processing technique"
   ]
  },
  {
   "cell_type": "markdown",
   "metadata": {},
   "source": [
    "The Preprocessing technique applied to the dataset involves first converting the image to YUV color space, as described in the article, and then taking only the Y layer from the image.\n",
    "Next we normalize the dataset using the function provided within sklearn package which results in a mean of 0.163 over the training dataset."
   ]
  },
  {
   "cell_type": "code",
   "execution_count": 4,
   "metadata": {},
   "outputs": [
    {
     "name": "stderr",
     "output_type": "stream",
     "text": [
      "C:\\Miniconda3\\envs\\carnd-term1\\lib\\site-packages\\sklearn\\utils\\validation.py:429: DataConversionWarning: Data with input dtype uint8 was converted to float64 by the normalize function.\n",
      "  warnings.warn(msg, _DataConversionWarning)\n"
     ]
    },
    {
     "name": "stdout",
     "output_type": "stream",
     "text": [
      "Done YUV conversion and normalization\n"
     ]
    }
   ],
   "source": [
    "### Preprocess the data here. It is required to normalize the data. Other preprocessing steps could include \n",
    "### converting to grayscale, etc.\n",
    "### Feel free to use as many code cells as needed.\n",
    "\n",
    "def convertYUV(img):\n",
    "    res = []\n",
    "    for x in range(len(img)):\n",
    "        temp = cv2.cvtColor(img[x], cv2.COLOR_RGB2YUV)\n",
    "        y, u, v = cv2.split(temp)\n",
    "        y = preprocessing.normalize(y)\n",
    "        y.shape = y.shape + (1,)\n",
    "        res.append(y)   \n",
    "    return res\n",
    "    \n",
    "X_train_rgb = X_train\n",
    "X_train_normalized = convertYUV(X_train)\n",
    "\n",
    "X_valid_rgb = X_valid\n",
    "X_valid_normalized = convertYUV(X_valid)\n",
    "\n",
    "X_test_rgb = X_test\n",
    "X_test_normalized = convertYUV(X_test)\n",
    "\n",
    "\n",
    "X_train = X_train_normalized\n",
    "X_test = X_test_normalized\n",
    "X_valid = X_valid_normalized\n",
    "\n",
    "print(\"Done YUV conversion and normalization\")"
   ]
  },
  {
   "cell_type": "markdown",
   "metadata": {},
   "source": [
    "### The new mean of the training dataset"
   ]
  },
  {
   "cell_type": "code",
   "execution_count": 5,
   "metadata": {},
   "outputs": [
    {
     "name": "stdout",
     "output_type": "stream",
     "text": [
      "0.163443959602\n"
     ]
    }
   ],
   "source": [
    "print(np.mean(X_train))"
   ]
  },
  {
   "cell_type": "markdown",
   "metadata": {},
   "source": [
    "## PreProcess Functions"
   ]
  },
  {
   "cell_type": "markdown",
   "metadata": {},
   "source": [
    "#### Below I am defining 3 functions that will be used to modify the dataset and create altered images of the base dataset. Creating these new images allows the training to go through a larger amount of data and learn from the different ways that it may encounter the image."
   ]
  },
  {
   "cell_type": "markdown",
   "metadata": {},
   "source": [
    "The functions are as follows:\n",
    "\n",
    "**random_brightness(img)**\n",
    "    Takes an input image and applies a random brightness change based on the maximum brightness in the image\n",
    "    \n",
    "**random_scale_img(img)**\n",
    "    Randomly scales up the image to a random size between 1.0x and 1.2x    "
   ]
  },
  {
   "cell_type": "code",
   "execution_count": 6,
   "metadata": {
    "collapsed": true,
    "scrolled": false
   },
   "outputs": [],
   "source": [
    "def random_scale_img(img):\n",
    "    img2=img.copy()\n",
    "    sc_y=0.2*np.random.rand()+1.0\n",
    "    img2=cv2.resize(img, None, fx=1, fy=sc_y, interpolation = cv2.INTER_CUBIC)\n",
    "    \n",
    "    dy = int((img2.shape[1]-img.shape[0])/2)\n",
    "    end = img.shape[1]-dy\n",
    "    img2 = img2[dy:end,:]\n",
    "    assert img2.shape[0] == 32\n",
    "    return img2\n",
    "\n",
    "def random_brightness(img):\n",
    "    shifted = img + 1.0   # shift to (0,2) range\n",
    "    img_max_value = max(shifted.flatten())\n",
    "    max_coef = 2.0/img_max_value\n",
    "    min_coef = max_coef - 0.1\n",
    "    coef = np.random.uniform(min_coef, max_coef)\n",
    "    dst = shifted * coef - 1.0\n",
    "    return dst\n",
    "\n",
    "def transform_img(img):\n",
    "    img = img.copy()\n",
    "    \n",
    "    img = random_brightness(img)\n",
    "    img = random_scale_img(img)\n",
    "    img.shape = img.shape + (1,)\n",
    "    return img"
   ]
  },
  {
   "cell_type": "markdown",
   "metadata": {},
   "source": [
    "### Running the above transform_img(img) function to showcase a few results after processing a few images from the training set"
   ]
  },
  {
   "cell_type": "code",
   "execution_count": 7,
   "metadata": {},
   "outputs": [
    {
     "name": "stdout",
     "output_type": "stream",
     "text": [
      "(32, 32, 1)\n"
     ]
    }
   ],
   "source": [
    "print(transform_img(X_train[100]).shape)"
   ]
  },
  {
   "cell_type": "code",
   "execution_count": 8,
   "metadata": {},
   "outputs": [
    {
     "data": {
      "text/plain": [
       "<matplotlib.image.AxesImage at 0x196b061b438>"
      ]
     },
     "execution_count": 8,
     "metadata": {},
     "output_type": "execute_result"
    },
    {
     "data": {
      "image/png": "[encoded data removed]",
      "text/plain": [
       "<matplotlib.figure.Figure at 0x196b07e18d0>"
      ]
     },
     "metadata": {},
     "output_type": "display_data"
    }
   ],
   "source": [
    "fig, axs = plt.subplots(3,3, figsize=(10, 10))\n",
    "fig.subplots_adjust(hspace = .1, wspace=.001)\n",
    "axs = axs.ravel()\n",
    "\n",
    "#original image 100\n",
    "img = X_train_rgb[100]\n",
    "axs[0].axis('off')\n",
    "axs[0].imshow(img)\n",
    "\n",
    "#grayscaled image 100\n",
    "axs[1].axis('off')\n",
    "axs[1].imshow(X_train[100].squeeze())\n",
    "\n",
    "#transformed image 100\n",
    "axs[2].axis('off')\n",
    "axs[2].imshow(transform_img(X_train[100]).squeeze(), cmap=\"gray\")\n",
    "\n",
    "#original image 1000\n",
    "img = X_train_rgb[1000]\n",
    "axs[3].axis('off')\n",
    "axs[3].imshow(img)\n",
    "\n",
    "#grayscaled image 1000\n",
    "axs[4].axis('off')\n",
    "axs[4].imshow(X_train[1000].squeeze())\n",
    "\n",
    "#transformed image 1000\n",
    "axs[5].axis('off')\n",
    "axs[5].imshow(transform_img(X_train[1000]).squeeze(),cmap=\"gray\")\n",
    "\n",
    "#original image 7000\n",
    "img = X_train_rgb[22222]\n",
    "axs[6].axis('off')\n",
    "axs[6].imshow(img)\n",
    "\n",
    "#grayscaled image 7000\n",
    "axs[7].axis('off')\n",
    "axs[7].imshow(X_train[22222].squeeze())\n",
    "\n",
    "#transformed image 7000\n",
    "axs[8].axis('off')\n",
    "axs[8].imshow(transform_img(X_train[22222]).squeeze(), cmap=\"gray\")"
   ]
  },
  {
   "cell_type": "code",
   "execution_count": 9,
   "metadata": {},
   "outputs": [
    {
     "name": "stdout",
     "output_type": "stream",
     "text": [
      "len of x train 34799\n",
      "shape of x train (32, 32, 1)\n",
      "len of x train normal 34799\n",
      "shape of x train normal (32, 32, 1)\n",
      "shape after transform img x train (32, 32, 1)\n",
      "shape after transform img x train normal (32, 32, 1)\n"
     ]
    }
   ],
   "source": [
    "print(\"len of x train\", len(X_train))\n",
    "print(\"shape of x train\", X_train[0].shape)\n",
    "print(\"len of x train normal\", len(X_train_normalized))\n",
    "print(\"shape of x train normal\", X_train_normalized[0].shape)\n",
    "print(\"shape after transform img x train\", transform_img(X_train[0]).shape)\n",
    "print(\"shape after transform img x train normal\", transform_img(X_train_normalized[0]).shape)"
   ]
  },
  {
   "cell_type": "markdown",
   "metadata": {},
   "source": [
    "## Create more training data"
   ]
  },
  {
   "cell_type": "markdown",
   "metadata": {},
   "source": [
    "### Add transformed images(function above) to every class until no class have less than 850 samples"
   ]
  },
  {
   "cell_type": "code",
   "execution_count": 10,
   "metadata": {},
   "outputs": [
    {
     "name": "stdout",
     "output_type": "stream",
     "text": [
      "X, y shapes: (32, 32, 1) (34799,)\n",
      "0 -> Adding:  670\n",
      "6 -> Adding:  490\n",
      "14 -> Adding:  160\n",
      "15 -> Adding:  310\n",
      "16 -> Adding:  490\n",
      "19 -> Adding:  670\n",
      "20 -> Adding:  550\n",
      "21 -> Adding:  580\n",
      "22 -> Adding:  520\n",
      "23 -> Adding:  400\n",
      "24 -> Adding:  610\n",
      "26 -> Adding:  310\n",
      "27 -> Adding:  640\n",
      "28 -> Adding:  370\n",
      "29 -> Adding:  610\n",
      "30 -> Adding:  460\n",
      "31 -> Adding:  160\n",
      "32 -> Adding:  640\n",
      "33 -> Adding:  251\n",
      "34 -> Adding:  490\n",
      "36 -> Adding:  520\n",
      "37 -> Adding:  670\n",
      "39 -> Adding:  580\n",
      "40 -> Adding:  550\n",
      "41 -> Adding:  640\n",
      "42 -> Adding:  640\n",
      "X, y shapes: (47780, 32, 32, 1) (47780,)\n"
     ]
    }
   ],
   "source": [
    "print('X, y shapes:', X_train_normalized[0].shape, y_train.shape)\n",
    "\n",
    "input_indices = []\n",
    "output_indices = []\n",
    "\n",
    "for class_n in range(n_classes):\n",
    "    class_indices = np.where(y_train == class_n)\n",
    "    n_samples = len(class_indices[0])\n",
    "    if n_samples < 850:\n",
    "        print(class_n, \"-> Adding: \", 850-n_samples)\n",
    "        for i in range(850 - n_samples):\n",
    "            input_indices.append(class_indices[0][i%n_samples])\n",
    "            output_indices.append(len(X_train_normalized))\n",
    "            new_img = X_train_normalized[class_indices[0][i % n_samples]]\n",
    "            new_img = transform_img(new_img)\n",
    "            new_img.shape = new_img.shape\n",
    "            X_train_normalized = np.concatenate((X_train_normalized, [new_img]), axis=0)\n",
    "            y_train = np.concatenate((y_train, [class_n]), axis=0)\n",
    "            \n",
    "print('X, y shapes:', X_train_normalized.shape, y_train.shape)"
   ]
  },
  {
   "cell_type": "markdown",
   "metadata": {},
   "source": [
    "### Display a few examples from the new dataset"
   ]
  },
  {
   "cell_type": "code",
   "execution_count": 12,
   "metadata": {},
   "outputs": [
    {
     "data": {
      "image/png": "[encoded data removed]",
      "text/plain": [
       "<matplotlib.figure.Figure at 0x196b05949e8>"
      ]
     },
     "metadata": {},
     "output_type": "display_data"
    }
   ],
   "source": [
    "choices = list(range(len(input_indices)))\n",
    "picks = []\n",
    "for i in range(5):\n",
    "    rnd_index = np.random.randint(low=0,high=len(choices))\n",
    "    picks.append(choices.pop(rnd_index))\n",
    "fig, axs = plt.subplots(2,5, figsize=(15, 6))\n",
    "fig.subplots_adjust(hspace = .2, wspace=.001)\n",
    "axs = axs.ravel()\n",
    "for i in range(5):\n",
    "    image = X_train_normalized[input_indices[picks[i]]].squeeze()\n",
    "    axs[i].axis('off')\n",
    "    axs[i].imshow(image, cmap = 'gray')\n",
    "    axs[i].set_title(y_train[input_indices[picks[i]]])\n",
    "for i in range(5):\n",
    "    image = X_train_normalized[output_indices[picks[i]]].squeeze()\n",
    "    axs[i+5].axis('off')\n",
    "    axs[i+5].imshow(image, cmap = 'gray')\n",
    "    axs[i+5].set_title(y_train[output_indices[picks[i]]])"
   ]
  },
  {
   "cell_type": "markdown",
   "metadata": {},
   "source": [
    "### Here is what the new training dataset looks like"
   ]
  },
  {
   "cell_type": "code",
   "execution_count": 13,
   "metadata": {},
   "outputs": [
    {
     "data": {
      "image/png": "[encoded data removed]",
      "text/plain": [
       "<matplotlib.figure.Figure at 0x196b082f470>"
      ]
     },
     "metadata": {},
     "output_type": "display_data"
    }
   ],
   "source": [
    "hist, bins = np.histogram(y_train, bins=n_classes)\n",
    "width = 0.7 * (bins[1] - bins[0])\n",
    "center = (bins[:-1] + bins[1:]) / 2\n",
    "plt.bar(center, hist, align='center', width=width)\n",
    "plt.show()"
   ]
  },
  {
   "cell_type": "markdown",
   "metadata": {},
   "source": [
    "### Shuffle the training data to make the learning more robust"
   ]
  },
  {
   "cell_type": "code",
   "execution_count": 14,
   "metadata": {},
   "outputs": [
    {
     "name": "stdout",
     "output_type": "stream",
     "text": [
      "done\n"
     ]
    }
   ],
   "source": [
    "from sklearn.utils import shuffle\n",
    "\n",
    "X_train_normalized, y_train = shuffle(X_train_normalized, y_train)\n",
    "\n",
    "print('done')"
   ]
  },
  {
   "cell_type": "markdown",
   "metadata": {},
   "source": [
    "### Branch a section (20%) of the training data to create the validation dataset"
   ]
  },
  {
   "cell_type": "code",
   "execution_count": 15,
   "metadata": {},
   "outputs": [
    {
     "name": "stdout",
     "output_type": "stream",
     "text": [
      "Old X_train size: 47780\n",
      "New X_train size: 38224\n",
      "X_validation size: 9556\n"
     ]
    }
   ],
   "source": [
    "from sklearn.model_selection import train_test_split\n",
    "\n",
    "X_train, X_validation, y_train, y_validation = train_test_split(X_train_normalized, y_train, \n",
    "                                                                test_size=0.20, random_state=42)\n",
    "\n",
    "print(\"Old X_train size:\",len(X_train_normalized))\n",
    "print(\"X_validation size:\",len(X_validation))"
   ]
  },
  {
   "cell_type": "markdown",
   "metadata": {},
   "source": [
    "### Model Architecture"
   ]
  },
  {
   "cell_type": "markdown",
   "metadata": {},
   "source": [
    "#### A modified version of LeNet is the chosen architecture with a mean of 0 and sigma 0.1\n",
    "#### Number of Epochs is set to 150 with a batch size of 128"
   ]
  },
  {
   "cell_type": "markdown",
   "metadata": {},
   "source": [
    "The modified LeNet architecture below contains 4 layers, the first 3 being convolutional and the last 1 being fully connected.\n",
    "It starts with the pre processed image which is a 32,32,1. The outputs of the layers are:\n",
    "\n",
    "Output layer 1(convolution): 28,28,6\n",
    "\n",
    "Output Pooling: 14,14,6\n",
    "\n",
    "Output Layer 2(convolution): 10,10,16\n",
    "\n",
    "Output Pooling: 5,5,16\n",
    "\n",
    "Output Layer 3(convolution): 1,1,400\n",
    "\n",
    "Flattened to an output: 400\n",
    "\n",
    "Output Layer 4(fully connected): 43"
   ]
  },
  {
   "cell_type": "code",
   "execution_count": 16,
   "metadata": {
    "collapsed": true
   },
   "outputs": [],
   "source": [
    "### Define your architecture here.\n",
    "### Feel free to use as many code cells as needed.\n",
    "\n",
    "### LeNet function from the class notes, with 100 Epochs and a batch size of 128\n",
    "import tensorflow as tf\n",
    "from tensorflow.contrib.layers import flatten\n",
    "from sklearn.utils import shuffle\n",
    "\n",
    "EPOCHS = 150\n",
    "BATCH_SIZE = 128\n",
    "\n",
    "def LeNet(x):    \n",
    "    mu = 0\n",
    "    sigma = 0.1\n",
    "\n",
    "    # Layer 1: Convolutional. Input = 32x32x1. Output = 28x28x6.\n",
    "    conv1_W = tf.Variable(tf.truncated_normal(shape=(5, 5, 1, 6), mean = mu, stddev = sigma))\n",
    "    conv1_b = tf.Variable(tf.zeros(6))\n",
    "    conv1   = tf.nn.conv2d(x, conv1_W, strides=[1, 1, 1, 1], padding='VALID') + conv1_b\n",
    "\n",
    "    #  Activation.\n",
    "    conv1 = tf.nn.relu(conv1)\n",
    "\n",
    "    # Pooling. Input = 28x28x6. Output = 14x14x6.\n",
    "    conv1 = tf.nn.max_pool(conv1, ksize=[1, 2, 2, 1], strides=[1, 2, 2, 1], padding='VALID')\n",
    "\n",
    "    #  Layer 2: Convolutional. Output = 10x10x16.\n",
    "    conv2_W = tf.Variable(tf.truncated_normal(shape=(5, 5, 6, 16), mean = mu, stddev = sigma))\n",
    "    conv2_b = tf.Variable(tf.zeros(16))\n",
    "    conv2   = tf.nn.conv2d(conv1, conv2_W, strides=[1, 1, 1, 1], padding='VALID') + conv2_b\n",
    "    \n",
    "    #  Activation.\n",
    "    conv2 = tf.nn.relu(conv2)\n",
    "\n",
    "    # Pooling. Input = 10x10x16. Output = 5x5x16.\n",
    "    conv2 = tf.nn.max_pool(conv2, ksize=[1, 2, 2, 1], strides=[1, 2, 2, 1], padding='VALID')\n",
    "    \n",
    "    # TODO: Layer 3: Convolutional. Output = 1x1x400.\n",
    "    conv3_W = tf.Variable(tf.truncated_normal(shape=(5, 5, 16, 400), mean = mu, stddev = sigma))\n",
    "    conv3 = tf.nn.conv2d(conv2, conv3_W, strides=[1, 1, 1, 1], padding='VALID')\n",
    "    conv3_b = tf.Variable(tf.zeros(400))\n",
    "    \n",
    "    conv3 = tf.nn.relu(conv3)\n",
    "\n",
    "    # SFlatten. Input = 1x1x400. Output = 400.\n",
    "    fc1   = flatten(conv3)\n",
    "\n",
    "    dr2 = tf.nn.dropout(fc1, dropout) \n",
    "    \n",
    "    #  Layer 5: Fully Connected. Input = 400. Output = 43.\n",
    "    fc3_W  = tf.Variable(tf.truncated_normal(shape=(400, 43), mean = mu, stddev = sigma))\n",
    "    fc3_b  = tf.Variable(tf.zeros(43))\n",
    "    logits = tf.matmul(dr2, fc3_W) + fc3_b\n",
    "\n",
    "    return logits"
   ]
  },
  {
   "cell_type": "markdown",
   "metadata": {},
   "source": [
    "### Here I start defining the variables for the tensorflow session"
   ]
  },
  {
   "cell_type": "markdown",
   "metadata": {},
   "source": [
    "x is the placeholder for the images\n",
    "y is the placeholder for the labels\n",
    "dropout is used to determine the dropout value in the LeNet function"
   ]
  },
  {
   "cell_type": "code",
   "execution_count": 17,
   "metadata": {
    "collapsed": true
   },
   "outputs": [],
   "source": [
    "# x is placeholder for the image data\n",
    "# y is placeholder for label data\n",
    "# dropout is the variable used to determine dropout\n",
    "# one_hot_y holds the result of the built in one hot function\n",
    "x = tf.placeholder(tf.float32, (None, 32, 32, 1))\n",
    "y = tf.placeholder(tf.int32, (None))\n",
    "dropout = tf.placeholder(tf.float32)\n",
    "one_hot_y = tf.one_hot(y, 43)"
   ]
  },
  {
   "cell_type": "markdown",
   "metadata": {},
   "source": [
    "### The chosen learning rate is 0.0009"
   ]
  },
  {
   "cell_type": "markdown",
   "metadata": {},
   "source": [
    "#### The built-in tenforflow optimizer AdamOptimizer is the choice of optimizer"
   ]
  },
  {
   "cell_type": "code",
   "execution_count": 18,
   "metadata": {
    "collapsed": true
   },
   "outputs": [],
   "source": [
    "rate = 0.0009\n",
    "#the logits are created through the LeNet function above\n",
    "logits = LeNet(x)\n",
    "cross_entropy = tf.nn.softmax_cross_entropy_with_logits(logits=logits,labels=one_hot_y)\n",
    "loss_operation = tf.reduce_mean(cross_entropy)\n",
    "optimizer = tf.train.AdamOptimizer(learning_rate = rate)\n",
    "training_operation = optimizer.minimize(loss_operation)\n",
    "\n",
    "###\n",
    "predict_operation = tf.argmax(logits, 1)\n",
    "predict_proba_operation = tf.nn.softmax(logits=logits)"
   ]
  },
  {
   "cell_type": "markdown",
   "metadata": {},
   "source": [
    "### The evaluate function will be used during the tensorflow sessions to return the accuracy of our network during each epoch, it will call the accuracy_operation function to see how accurate our prediction and it returns the average accuracy over the entire data set.\n",
    "\n",
    "### The predict function will be used later on the images from the web to return our network's predicted values from which we will extract the top result to see how well the network performs on the new images."
   ]
  },
  {
   "cell_type": "code",
   "execution_count": 19,
   "metadata": {},
   "outputs": [],
   "source": [
    "#setting up the evaluate function to be used to check the accuracy of the network\n",
    "correct_prediction = tf.equal(tf.argmax(logits, 1), tf.argmax(one_hot_y, 1))\n",
    "accuracy_operation = tf.reduce_mean(tf.cast(correct_prediction, tf.float32))\n",
    "saver = tf.train.Saver()\n",
    "\n",
    "def evaluate(X_data, y_data):\n",
    "    num_examples = len(X_data)\n",
    "    total_accuracy = 0\n",
    "    sess = tf.get_default_session()\n",
    "    for offset in range(0, num_examples, BATCH_SIZE):\n",
    "        batch_x, batch_y = X_data[offset:offset+BATCH_SIZE], y_data[offset:offset+BATCH_SIZE]\n",
    "        accuracy = sess.run(accuracy_operation, feed_dict={x: batch_x, y: batch_y, dropout: 1.0})\n",
    "        total_accuracy += (accuracy * len(batch_x))\n",
    "    return total_accuracy / num_examples\n",
    "###\n",
    "def predict(X_data):\n",
    "    num_examples = len(X_data)\n",
    "    sess = tf.get_default_session()\n",
    "    predicted_proba = list()\n",
    "    for offset in range(0, num_examples, BATCH_SIZE):\n",
    "        batch_x = X_data[offset:offset+BATCH_SIZE]\n",
    "        predicted_proba.extend( sess.run(predict_proba_operation, feed_dict={x: batch_x, dropout: 1.0}))\n",
    "        \n",
    "        \n",
    "    return predicted_proba"
   ]
  },
  {
   "cell_type": "markdown",
   "metadata": {},
   "source": [
    "### Train, Validate and Test the Model"
   ]
  },
  {
   "cell_type": "markdown",
   "metadata": {},
   "source": [
    "A validation set can be used to assess how well the model is performing. A low accuracy on the training and validation\n",
    "sets imply underfitting. A high accuracy on the training set but low accuracy on the validation set implies overfitting."
   ]
  },
  {
   "cell_type": "code",
   "execution_count": 20,
   "metadata": {},
   "outputs": [
    {
     "name": "stdout",
     "output_type": "stream",
     "text": [
      "Training...\n",
      "\n",
      "EPOCH 1 ...\n",
      "Training Accuracy = 0.795\n",
      "Validation Accuracy = 0.786\n",
      "\n",
      "EPOCH 2 ...\n",
      "Training Accuracy = 0.908\n",
      "Validation Accuracy = 0.899\n",
      "\n",
      "EPOCH 3 ...\n",
      "Training Accuracy = 0.939\n",
      "Validation Accuracy = 0.929\n",
      "\n",
      "EPOCH 4 ...\n",
      "Training Accuracy = 0.957\n",
      "Validation Accuracy = 0.945\n",
      "\n",
      "EPOCH 5 ...\n",
      "Training Accuracy = 0.967\n",
      "Validation Accuracy = 0.956\n",
      "\n",
      "EPOCH 6 ...\n",
      "Training Accuracy = 0.975\n",
      "Validation Accuracy = 0.964\n",
      "\n",
      "EPOCH 7 ...\n",
      "Training Accuracy = 0.978\n",
      "Validation Accuracy = 0.964\n",
      "\n",
      "EPOCH 8 ...\n",
      "Training Accuracy = 0.986\n",
      "Validation Accuracy = 0.975\n",
      "\n",
      "EPOCH 9 ...\n",
      "Training Accuracy = 0.988\n",
      "Validation Accuracy = 0.976\n",
      "\n",
      "EPOCH 10 ...\n",
      "Training Accuracy = 0.988\n",
      "Validation Accuracy = 0.978\n",
      "\n",
      "EPOCH 11 ...\n",
      "Training Accuracy = 0.991\n",
      "Validation Accuracy = 0.978\n",
      "\n",
      "EPOCH 12 ...\n",
      "Training Accuracy = 0.993\n",
      "Validation Accuracy = 0.983\n",
      "\n",
      "EPOCH 13 ...\n",
      "Training Accuracy = 0.994\n",
      "Validation Accuracy = 0.984\n",
      "\n",
      "EPOCH 14 ...\n",
      "Training Accuracy = 0.995\n",
      "Validation Accuracy = 0.983\n",
      "\n",
      "EPOCH 15 ...\n",
      "Training Accuracy = 0.995\n",
      "Validation Accuracy = 0.983\n",
      "\n",
      "EPOCH 16 ...\n",
      "Training Accuracy = 0.996\n",
      "Validation Accuracy = 0.984\n",
      "\n",
      "EPOCH 17 ...\n",
      "Training Accuracy = 0.997\n",
      "Validation Accuracy = 0.986\n",
      "\n",
      "EPOCH 18 ...\n",
      "Training Accuracy = 0.997\n",
      "Validation Accuracy = 0.987\n",
      "\n",
      "EPOCH 19 ...\n",
      "Training Accuracy = 0.998\n",
      "Validation Accuracy = 0.987\n",
      "\n",
      "EPOCH 20 ...\n",
      "Training Accuracy = 0.998\n",
      "Validation Accuracy = 0.986\n",
      "\n",
      "EPOCH 21 ...\n",
      "Training Accuracy = 0.999\n",
      "Validation Accuracy = 0.989\n",
      "\n",
      "EPOCH 22 ...\n",
      "Training Accuracy = 0.999\n",
      "Validation Accuracy = 0.989\n",
      "\n",
      "EPOCH 23 ...\n",
      "Training Accuracy = 0.999\n",
      "Validation Accuracy = 0.989\n",
      "\n",
      "EPOCH 24 ...\n",
      "Training Accuracy = 0.999\n",
      "Validation Accuracy = 0.990\n",
      "\n",
      "EPOCH 25 ...\n",
      "Training Accuracy = 0.999\n",
      "Validation Accuracy = 0.988\n",
      "\n",
      "EPOCH 26 ...\n",
      "Training Accuracy = 0.999\n",
      "Validation Accuracy = 0.988\n",
      "\n",
      "EPOCH 27 ...\n",
      "Training Accuracy = 0.999\n",
      "Validation Accuracy = 0.991\n",
      "\n",
      "EPOCH 28 ...\n",
      "Training Accuracy = 0.999\n",
      "Validation Accuracy = 0.991\n",
      "\n",
      "EPOCH 29 ...\n",
      "Training Accuracy = 0.999\n",
      "Validation Accuracy = 0.989\n",
      "\n",
      "EPOCH 30 ...\n",
      "Training Accuracy = 1.000\n",
      "Validation Accuracy = 0.990\n",
      "\n",
      "EPOCH 31 ...\n",
      "Training Accuracy = 1.000\n",
      "Validation Accuracy = 0.991\n",
      "\n",
      "EPOCH 32 ...\n",
      "Training Accuracy = 0.999\n",
      "Validation Accuracy = 0.991\n",
      "\n",
      "EPOCH 33 ...\n",
      "Training Accuracy = 0.999\n",
      "Validation Accuracy = 0.990\n",
      "\n",
      "EPOCH 34 ...\n",
      "Training Accuracy = 0.999\n",
      "Validation Accuracy = 0.990\n",
      "\n",
      "EPOCH 35 ...\n",
      "Training Accuracy = 1.000\n",
      "Validation Accuracy = 0.993\n",
      "\n",
      "EPOCH 36 ...\n",
      "Training Accuracy = 1.000\n",
      "Validation Accuracy = 0.992\n",
      "\n",
      "EPOCH 37 ...\n",
      "Training Accuracy = 1.000\n",
      "Validation Accuracy = 0.990\n",
      "\n",
      "EPOCH 38 ...\n",
      "Training Accuracy = 1.000\n",
      "Validation Accuracy = 0.992\n",
      "\n",
      "EPOCH 39 ...\n",
      "Training Accuracy = 1.000\n",
      "Validation Accuracy = 0.992\n",
      "\n",
      "EPOCH 40 ...\n",
      "Training Accuracy = 1.000\n",
      "Validation Accuracy = 0.991\n",
      "\n",
      "EPOCH 41 ...\n",
      "Training Accuracy = 1.000\n",
      "Validation Accuracy = 0.992\n",
      "\n",
      "EPOCH 42 ...\n",
      "Training Accuracy = 1.000\n",
      "Validation Accuracy = 0.991\n",
      "\n",
      "EPOCH 43 ...\n",
      "Training Accuracy = 1.000\n",
      "Validation Accuracy = 0.992\n",
      "\n",
      "EPOCH 44 ...\n",
      "Training Accuracy = 1.000\n",
      "Validation Accuracy = 0.993\n",
      "\n",
      "EPOCH 45 ...\n",
      "Training Accuracy = 1.000\n",
      "Validation Accuracy = 0.993\n",
      "\n",
      "EPOCH 46 ...\n",
      "Training Accuracy = 1.000\n",
      "Validation Accuracy = 0.992\n",
      "\n",
      "EPOCH 47 ...\n",
      "Training Accuracy = 1.000\n",
      "Validation Accuracy = 0.993\n",
      "\n",
      "EPOCH 48 ...\n",
      "Training Accuracy = 1.000\n",
      "Validation Accuracy = 0.993\n",
      "\n",
      "EPOCH 49 ...\n",
      "Training Accuracy = 1.000\n",
      "Validation Accuracy = 0.992\n",
      "\n",
      "EPOCH 50 ...\n",
      "Training Accuracy = 1.000\n",
      "Validation Accuracy = 0.993\n",
      "\n",
      "EPOCH 51 ...\n",
      "Training Accuracy = 1.000\n",
      "Validation Accuracy = 0.994\n",
      "\n",
      "EPOCH 52 ...\n",
      "Training Accuracy = 1.000\n",
      "Validation Accuracy = 0.993\n",
      "\n",
      "EPOCH 53 ...\n",
      "Training Accuracy = 1.000\n",
      "Validation Accuracy = 0.993\n",
      "\n",
      "EPOCH 54 ...\n",
      "Training Accuracy = 1.000\n",
      "Validation Accuracy = 0.992\n",
      "\n",
      "EPOCH 55 ...\n",
      "Training Accuracy = 1.000\n",
      "Validation Accuracy = 0.992\n",
      "\n",
      "EPOCH 56 ...\n",
      "Training Accuracy = 1.000\n",
      "Validation Accuracy = 0.993\n",
      "\n",
      "EPOCH 57 ...\n",
      "Training Accuracy = 1.000\n",
      "Validation Accuracy = 0.994\n",
      "\n",
      "EPOCH 58 ...\n",
      "Training Accuracy = 1.000\n",
      "Validation Accuracy = 0.993\n",
      "\n",
      "EPOCH 59 ...\n",
      "Training Accuracy = 1.000\n",
      "Validation Accuracy = 0.993\n",
      "\n",
      "EPOCH 60 ...\n",
      "Training Accuracy = 1.000\n",
      "Validation Accuracy = 0.994\n",
      "\n",
      "EPOCH 61 ...\n",
      "Training Accuracy = 1.000\n",
      "Validation Accuracy = 0.994\n",
      "\n",
      "EPOCH 62 ...\n",
      "Training Accuracy = 1.000\n",
      "Validation Accuracy = 0.993\n",
      "\n",
      "EPOCH 63 ...\n",
      "Training Accuracy = 1.000\n",
      "Validation Accuracy = 0.992\n",
      "\n",
      "EPOCH 64 ...\n",
      "Training Accuracy = 1.000\n",
      "Validation Accuracy = 0.993\n",
      "\n",
      "EPOCH 65 ...\n",
      "Training Accuracy = 1.000\n",
      "Validation Accuracy = 0.993\n",
      "\n",
      "EPOCH 66 ...\n",
      "Training Accuracy = 1.000\n",
      "Validation Accuracy = 0.993\n",
      "\n",
      "EPOCH 67 ...\n",
      "Training Accuracy = 1.000\n",
      "Validation Accuracy = 0.994\n",
      "\n",
      "EPOCH 68 ...\n",
      "Training Accuracy = 1.000\n",
      "Validation Accuracy = 0.993\n",
      "\n",
      "EPOCH 69 ...\n",
      "Training Accuracy = 1.000\n",
      "Validation Accuracy = 0.994\n",
      "\n",
      "EPOCH 70 ...\n",
      "Training Accuracy = 1.000\n",
      "Validation Accuracy = 0.994\n",
      "\n",
      "EPOCH 71 ...\n",
      "Training Accuracy = 1.000\n",
      "Validation Accuracy = 0.993\n",
      "\n",
      "EPOCH 72 ...\n",
      "Training Accuracy = 1.000\n",
      "Validation Accuracy = 0.994\n",
      "\n",
      "EPOCH 73 ...\n",
      "Training Accuracy = 1.000\n",
      "Validation Accuracy = 0.994\n",
      "\n",
      "EPOCH 74 ...\n",
      "Training Accuracy = 1.000\n",
      "Validation Accuracy = 0.994\n",
      "\n",
      "EPOCH 75 ...\n",
      "Training Accuracy = 1.000\n",
      "Validation Accuracy = 0.993\n",
      "\n",
      "EPOCH 76 ...\n",
      "Training Accuracy = 1.000\n",
      "Validation Accuracy = 0.994\n",
      "\n",
      "EPOCH 77 ...\n",
      "Training Accuracy = 1.000\n",
      "Validation Accuracy = 0.994\n",
      "\n",
      "EPOCH 78 ...\n",
      "Training Accuracy = 1.000\n",
      "Validation Accuracy = 0.995\n",
      "\n",
      "EPOCH 79 ...\n",
      "Training Accuracy = 1.000\n",
      "Validation Accuracy = 0.993\n",
      "\n",
      "EPOCH 80 ...\n",
      "Training Accuracy = 1.000\n",
      "Validation Accuracy = 0.994\n",
      "\n",
      "EPOCH 81 ...\n",
      "Training Accuracy = 1.000\n",
      "Validation Accuracy = 0.994\n",
      "\n",
      "EPOCH 82 ...\n",
      "Training Accuracy = 1.000\n",
      "Validation Accuracy = 0.994\n",
      "\n",
      "EPOCH 83 ...\n",
      "Training Accuracy = 1.000\n",
      "Validation Accuracy = 0.995\n",
      "\n",
      "EPOCH 84 ...\n",
      "Training Accuracy = 1.000\n",
      "Validation Accuracy = 0.994\n",
      "\n",
      "EPOCH 85 ...\n",
      "Training Accuracy = 1.000\n",
      "Validation Accuracy = 0.995\n",
      "\n",
      "EPOCH 86 ...\n",
      "Training Accuracy = 1.000\n",
      "Validation Accuracy = 0.995\n",
      "\n",
      "EPOCH 87 ...\n",
      "Training Accuracy = 1.000\n",
      "Validation Accuracy = 0.995\n",
      "\n",
      "EPOCH 88 ...\n",
      "Training Accuracy = 1.000\n",
      "Validation Accuracy = 0.995\n",
      "\n",
      "EPOCH 89 ...\n",
      "Training Accuracy = 1.000\n",
      "Validation Accuracy = 0.995\n",
      "\n",
      "EPOCH 90 ...\n",
      "Training Accuracy = 1.000\n",
      "Validation Accuracy = 0.995\n",
      "\n",
      "EPOCH 91 ...\n",
      "Training Accuracy = 1.000\n",
      "Validation Accuracy = 0.995\n",
      "\n",
      "EPOCH 92 ...\n",
      "Training Accuracy = 1.000\n",
      "Validation Accuracy = 0.995\n",
      "\n",
      "EPOCH 93 ...\n",
      "Training Accuracy = 1.000\n",
      "Validation Accuracy = 0.995\n",
      "\n",
      "EPOCH 94 ...\n",
      "Training Accuracy = 1.000\n",
      "Validation Accuracy = 0.994\n",
      "\n",
      "EPOCH 95 ...\n",
      "Training Accuracy = 1.000\n",
      "Validation Accuracy = 0.994\n",
      "\n",
      "EPOCH 96 ...\n",
      "Training Accuracy = 1.000\n",
      "Validation Accuracy = 0.994\n",
      "\n",
      "EPOCH 97 ...\n",
      "Training Accuracy = 1.000\n",
      "Validation Accuracy = 0.995\n",
      "\n",
      "EPOCH 98 ...\n",
      "Training Accuracy = 1.000\n",
      "Validation Accuracy = 0.995\n",
      "\n",
      "EPOCH 99 ...\n",
      "Training Accuracy = 1.000\n",
      "Validation Accuracy = 0.994\n",
      "\n",
      "EPOCH 100 ...\n",
      "Training Accuracy = 1.000\n",
      "Validation Accuracy = 0.995\n",
      "\n",
      "EPOCH 101 ...\n",
      "Training Accuracy = 1.000\n",
      "Validation Accuracy = 0.994\n",
      "\n",
      "EPOCH 102 ...\n",
      "Training Accuracy = 1.000\n",
      "Validation Accuracy = 0.993\n",
      "\n",
      "EPOCH 103 ...\n",
      "Training Accuracy = 1.000\n",
      "Validation Accuracy = 0.994\n",
      "\n",
      "EPOCH 104 ...\n",
      "Training Accuracy = 1.000\n",
      "Validation Accuracy = 0.994\n",
      "\n",
      "EPOCH 105 ...\n",
      "Training Accuracy = 1.000\n",
      "Validation Accuracy = 0.994\n",
      "\n",
      "EPOCH 106 ...\n",
      "Training Accuracy = 1.000\n",
      "Validation Accuracy = 0.993\n",
      "\n",
      "EPOCH 107 ...\n",
      "Training Accuracy = 1.000\n",
      "Validation Accuracy = 0.994\n",
      "\n",
      "EPOCH 108 ...\n",
      "Training Accuracy = 1.000\n",
      "Validation Accuracy = 0.994\n",
      "\n",
      "EPOCH 109 ...\n",
      "Training Accuracy = 1.000\n",
      "Validation Accuracy = 0.995\n",
      "\n",
      "EPOCH 110 ...\n",
      "Training Accuracy = 1.000\n",
      "Validation Accuracy = 0.994\n",
      "\n",
      "EPOCH 111 ...\n",
      "Training Accuracy = 1.000\n",
      "Validation Accuracy = 0.995\n",
      "\n",
      "EPOCH 112 ...\n",
      "Training Accuracy = 1.000\n",
      "Validation Accuracy = 0.994\n",
      "\n",
      "EPOCH 113 ...\n",
      "Training Accuracy = 1.000\n",
      "Validation Accuracy = 0.994\n",
      "\n",
      "EPOCH 114 ...\n",
      "Training Accuracy = 1.000\n",
      "Validation Accuracy = 0.994\n",
      "\n",
      "EPOCH 115 ...\n",
      "Training Accuracy = 1.000\n",
      "Validation Accuracy = 0.994\n",
      "\n",
      "EPOCH 116 ...\n",
      "Training Accuracy = 1.000\n",
      "Validation Accuracy = 0.994\n",
      "\n",
      "EPOCH 117 ...\n",
      "Training Accuracy = 1.000\n",
      "Validation Accuracy = 0.994\n",
      "\n",
      "EPOCH 118 ...\n",
      "Training Accuracy = 1.000\n",
      "Validation Accuracy = 0.994\n",
      "\n",
      "EPOCH 119 ...\n",
      "Training Accuracy = 1.000\n",
      "Validation Accuracy = 0.995\n",
      "\n",
      "EPOCH 120 ...\n",
      "Training Accuracy = 1.000\n",
      "Validation Accuracy = 0.995\n",
      "\n",
      "EPOCH 121 ...\n",
      "Training Accuracy = 1.000\n",
      "Validation Accuracy = 0.994\n",
      "\n"
     ]
    },
    {
     "name": "stdout",
     "output_type": "stream",
     "text": [
      "EPOCH 122 ...\n",
      "Training Accuracy = 1.000\n",
      "Validation Accuracy = 0.994\n",
      "\n",
      "EPOCH 123 ...\n",
      "Training Accuracy = 1.000\n",
      "Validation Accuracy = 0.993\n",
      "\n",
      "EPOCH 124 ...\n",
      "Training Accuracy = 1.000\n",
      "Validation Accuracy = 0.994\n",
      "\n",
      "EPOCH 125 ...\n",
      "Training Accuracy = 1.000\n",
      "Validation Accuracy = 0.995\n",
      "\n",
      "EPOCH 126 ...\n",
      "Training Accuracy = 1.000\n",
      "Validation Accuracy = 0.994\n",
      "\n",
      "EPOCH 127 ...\n",
      "Training Accuracy = 1.000\n",
      "Validation Accuracy = 0.995\n",
      "\n",
      "EPOCH 128 ...\n",
      "Training Accuracy = 1.000\n",
      "Validation Accuracy = 0.994\n",
      "\n",
      "EPOCH 129 ...\n",
      "Training Accuracy = 1.000\n",
      "Validation Accuracy = 0.995\n",
      "\n",
      "EPOCH 130 ...\n",
      "Training Accuracy = 1.000\n",
      "Validation Accuracy = 0.995\n",
      "\n",
      "EPOCH 131 ...\n",
      "Training Accuracy = 1.000\n",
      "Validation Accuracy = 0.994\n",
      "\n",
      "EPOCH 132 ...\n",
      "Training Accuracy = 1.000\n",
      "Validation Accuracy = 0.995\n",
      "\n",
      "EPOCH 133 ...\n",
      "Training Accuracy = 1.000\n",
      "Validation Accuracy = 0.993\n",
      "\n",
      "EPOCH 134 ...\n",
      "Training Accuracy = 1.000\n",
      "Validation Accuracy = 0.994\n",
      "\n",
      "EPOCH 135 ...\n",
      "Training Accuracy = 1.000\n",
      "Validation Accuracy = 0.994\n",
      "\n",
      "EPOCH 136 ...\n",
      "Training Accuracy = 1.000\n",
      "Validation Accuracy = 0.994\n",
      "\n",
      "EPOCH 137 ...\n",
      "Training Accuracy = 1.000\n",
      "Validation Accuracy = 0.995\n",
      "\n",
      "EPOCH 138 ...\n",
      "Training Accuracy = 1.000\n",
      "Validation Accuracy = 0.995\n",
      "\n",
      "EPOCH 139 ...\n",
      "Training Accuracy = 1.000\n",
      "Validation Accuracy = 0.994\n",
      "\n",
      "EPOCH 140 ...\n",
      "Training Accuracy = 1.000\n",
      "Validation Accuracy = 0.995\n",
      "\n",
      "EPOCH 141 ...\n",
      "Training Accuracy = 1.000\n",
      "Validation Accuracy = 0.995\n",
      "\n",
      "EPOCH 142 ...\n",
      "Training Accuracy = 1.000\n",
      "Validation Accuracy = 0.996\n",
      "\n",
      "EPOCH 143 ...\n",
      "Training Accuracy = 1.000\n",
      "Validation Accuracy = 0.995\n",
      "\n",
      "EPOCH 144 ...\n",
      "Training Accuracy = 1.000\n",
      "Validation Accuracy = 0.995\n",
      "\n",
      "EPOCH 145 ...\n",
      "Training Accuracy = 1.000\n",
      "Validation Accuracy = 0.994\n",
      "\n",
      "EPOCH 146 ...\n",
      "Training Accuracy = 1.000\n",
      "Validation Accuracy = 0.994\n",
      "\n",
      "EPOCH 147 ...\n",
      "Training Accuracy = 1.000\n",
      "Validation Accuracy = 0.994\n",
      "\n",
      "EPOCH 148 ...\n",
      "Training Accuracy = 1.000\n",
      "Validation Accuracy = 0.995\n",
      "\n",
      "EPOCH 149 ...\n",
      "Training Accuracy = 1.000\n",
      "Validation Accuracy = 0.995\n",
      "\n",
      "EPOCH 150 ...\n",
      "Training Accuracy = 1.000\n",
      "Validation Accuracy = 0.995\n",
      "\n",
      "Model saved\n"
     ]
    }
   ],
   "source": [
    "### Train your model here.\n",
    "### Calculate and report the accuracy on the training and validation set.\n",
    "### Once a final model architecture is selected, \n",
    "### the accuracy on the test set should be calculated and reported as well.\n",
    "### Feel free to use as many code cells as needed.\n",
    "with tf.Session() as sess:\n",
    "    sess.run(tf.global_variables_initializer())\n",
    "    num_examples = len(X_train)\n",
    "    \n",
    "    print(\"Training...\")\n",
    "    print()\n",
    "    for i in range(EPOCHS):\n",
    "        X_train, y_train = shuffle(X_train, y_train)\n",
    "        for offset in range(0, num_examples, BATCH_SIZE):\n",
    "            end = offset + BATCH_SIZE\n",
    "            batch_x, batch_y = X_train[offset:end], y_train[offset:end]\n",
    "            sess.run(training_operation, feed_dict={x: batch_x, y: batch_y, dropout: 0.5})\n",
    "        \n",
    "        training_accuracy = evaluate(X_train, y_train)\n",
    "        validation_accuracy = evaluate(X_validation, y_validation)\n",
    "        print(\"EPOCH {} ...\".format(i+1))\n",
    "        print(\"Training Accuracy = {:.3f}\".format(training_accuracy))\n",
    "        print(\"Validation Accuracy = {:.3f}\".format(validation_accuracy))\n",
    "        print()\n",
    "        \n",
    "    saver.save(sess, './lenet')\n",
    "    print(\"Model saved\")"
   ]
  },
  {
   "cell_type": "code",
   "execution_count": 21,
   "metadata": {},
   "outputs": [
    {
     "name": "stdout",
     "output_type": "stream",
     "text": [
      "INFO:tensorflow:Restoring parameters from .\\lenet\n",
      "Test Accuracy = 0.933\n"
     ]
    }
   ],
   "source": [
    "with tf.Session() as sess:\n",
    "    saver.restore(sess, tf.train.latest_checkpoint('.'))\n",
    "\n",
    "    test_accuracy = evaluate(X_test_normalized, y_test)\n",
    "    print(\"Test Accuracy = {:.3f}\".format(test_accuracy))"
   ]
  },
  {
   "cell_type": "markdown",
   "metadata": {},
   "source": [
    "### Previous Attempts:\n",
    "\n",
    "Here are a couple different settings I used during testing before deciding on this final set.\n",
    "There were a lot more attempts with varying preprocessing techniques, augmentation, and the architecture. They produced results lower than .9 for the test accuracy and a low validation accuracy hovering around .93"
   ]
  },
  {
   "cell_type": "markdown",
   "metadata": {},
   "source": [
    "Minimum Images Per Class: 1000\n",
    "\n",
    "Epoch: 100\n",
    "\n",
    "Batch Size: 128\n",
    "\n",
    "Architecture: Basic LeNet\n",
    "\n",
    "Learning Rate: .0001\n",
    "\n",
    "Dropout: 0.7\n",
    "\n",
    "Training Accuracy: 0.992\n",
    "\n",
    "Validation Accuracy: 0.979\n",
    "\n",
    "Test Accuracy: 0.914"
   ]
  },
  {
   "cell_type": "markdown",
   "metadata": {},
   "source": [
    "-------------------------------------------------------------------"
   ]
  },
  {
   "cell_type": "markdown",
   "metadata": {},
   "source": [
    "Minimum Images Per Class: 850\n",
    "\n",
    "Epoch: 100\n",
    "\n",
    "Batch Size: 128\n",
    "\n",
    "Architecture: Basic LeNet\n",
    "\n",
    "Learning Rate: .0005\n",
    "\n",
    "Dropout: 0.5\n",
    "\n",
    "Training Accuracy: 0.999\n",
    "\n",
    "Validation Accuracy: 0.989\n",
    "\n",
    "Test Accuracy: 0.938\n",
    "\n",
    "While this had a little better results in the test set it did worse, at 80% for my custom images and validation was less. It also wasn't consistent during retraining."
   ]
  },
  {
   "cell_type": "markdown",
   "metadata": {},
   "source": [
    "---\n",
    "\n",
    "## Step 3: Test a Model on New Images\n",
    "\n",
    "To give yourself more insight into how your model is working, download at least five pictures of German traffic signs from the web and use your model to predict the traffic sign type.\n",
    "\n",
    "You may find `signnames.csv` useful as it contains mappings from the class id (integer) to the actual sign name."
   ]
  },
  {
   "cell_type": "markdown",
   "metadata": {},
   "source": [
    "### Load and Output the Images"
   ]
  },
  {
   "cell_type": "code",
   "execution_count": 45,
   "metadata": {},
   "outputs": [
    {
     "name": "stderr",
     "output_type": "stream",
     "text": [
      "C:\\Miniconda3\\envs\\carnd-term1\\lib\\site-packages\\sklearn\\utils\\validation.py:429: DataConversionWarning: Data with input dtype uint8 was converted to float64 by the normalize function.\n",
      "  warnings.warn(msg, _DataConversionWarning)\n"
     ]
    },
    {
     "name": "stdout",
     "output_type": "stream",
     "text": [
      "(32, 32, 1)\n"
     ]
    },
    {
     "data": {
      "image/png": "[encoded data removed]",
      "text/plain": [
       "<matplotlib.figure.Figure at 0x196db47a358>"
      ]
     },
     "metadata": {},
     "output_type": "display_data"
    }
   ],
   "source": [
    "### Load the images and plot them here.\n",
    "### Feel free to use as many code cells as needed.\n",
    "\n",
    "import glob\n",
    "import matplotlib.image as mpimg\n",
    "\n",
    "fig, axs = plt.subplots(2,5, figsize=(15, 7))\n",
    "fig.subplots_adjust(hspace = .2, wspace=.001)\n",
    "axs = axs.ravel()\n",
    "\n",
    "my_images = []\n",
    "\n",
    "for i, img in enumerate(glob.glob('./my_images/*.png')):\n",
    "    image = cv2.imread(img)\n",
    "    axs[i].axis('off')\n",
    "    axs[i].imshow(cv2.cvtColor(image, cv2.COLOR_BGR2RGB))\n",
    "    my_images.append(image)\n",
    "\n",
    "my_images_normalized = convertYUV(my_images) \n",
    "\n",
    "print(my_images_normalized[0].shape)\n",
    "\n",
    "for i in range(len(my_images_normalized)):\n",
    "    axs[i+5].axis('off')\n",
    "    axs[i+5].imshow(my_images_normalized[i].squeeze(), cmap=\"gray\")\n",
    "    \n",
    "my_labels = [3,1,12,18,25]"
   ]
  },
  {
   "cell_type": "markdown",
   "metadata": {},
   "source": [
    "### Predict the Sign Type for Each Image and Analyze Performance"
   ]
  },
  {
   "cell_type": "code",
   "execution_count": 46,
   "metadata": {},
   "outputs": [
    {
     "name": "stdout",
     "output_type": "stream",
     "text": [
      "INFO:tensorflow:Restoring parameters from ./lenet\n",
      "Guess for first image expected: 3  prediction: 3\n",
      "Guess for second image crossing expected: 1  prediction: 1\n",
      "Guess for third image expected: 12  prediction: 12\n",
      "Guess for fourth image expected: 18  prediction: 18\n",
      "Guess for fifth image expected: 25  prediction: 25\n",
      "My Set Accuracy = 1.000\n",
      "100.0 %\n"
     ]
    }
   ],
   "source": [
    "### Run the predictions here and use the model to output the prediction for each image.\n",
    "### Make sure to pre-process the images with the same pre-processing pipeline used earlier.\n",
    "### Feel free to use as many code cells as needed.\n",
    "softmax_logits = tf.nn.softmax(logits)\n",
    "top_k = tf.nn.top_k(softmax_logits, k=1)\n",
    "\n",
    "with tf.Session() as sess:\n",
    "    sess.run(tf.global_variables_initializer())\n",
    "    saver3 = tf.train.import_meta_graph('./lenet.meta')\n",
    "    saver3.restore(sess, \"./lenet\")\n",
    "    my_accuracy = evaluate(my_images_normalized, my_labels)\n",
    "    \n",
    "    my_top_k = sess.run(top_k, feed_dict={x: my_images_normalized, dropout: 1.0})\n",
    "    print(\"Guess for first image expected:\", my_labels[0], \" prediction:\", my_top_k[1][0][0])\n",
    "    print(\"Guess for second image crossing expected:\", my_labels[1], \" prediction:\", my_top_k[1][1][0])\n",
    "    print(\"Guess for third image expected:\", my_labels[2], \" prediction:\", my_top_k[1][2][0])\n",
    "    print(\"Guess for fourth image expected:\", my_labels[3], \" prediction:\", my_top_k[1][3][0])\n",
    "    print(\"Guess for fifth image expected:\", my_labels[4], \" prediction:\", my_top_k[1][4][0])\n",
    "    \n",
    "    print(\"My Set Accuracy = {:.3f}\".format(my_accuracy))\n",
    "    print(my_accuracy*100, \"%\")"
   ]
  },
  {
   "cell_type": "markdown",
   "metadata": {},
   "source": [
    "#### Running another test on an image with dark background"
   ]
  },
  {
   "cell_type": "code",
   "execution_count": 42,
   "metadata": {},
   "outputs": [
    {
     "name": "stdout",
     "output_type": "stream",
     "text": [
      "(32, 32, 3)\n",
      "(1, 32, 32, 1)\n",
      "INFO:tensorflow:Restoring parameters from ./lenet\n",
      "Guess for first image(wild animal crossing) expected: 31  prediction: 31\n",
      "My Set Accuracy = 1.000\n",
      "100.0 %\n"
     ]
    },
    {
     "data": {
      "image/png": "[encoded data removed]",
      "text/plain": [
       "<matplotlib.figure.Figure at 0x196db4204a8>"
      ]
     },
     "metadata": {},
     "output_type": "display_data"
    }
   ],
   "source": [
    "my_imgs = []\n",
    "\n",
    "\n",
    "image = cv2.imread('./my_images/image2/animal_img_2.png')\n",
    "image = cv2.cvtColor(image, cv2.COLOR_BGR2RGB)\n",
    "plt.imshow(image)\n",
    "print(image.shape)\n",
    "my_imgs.append(image)\n",
    "\n",
    "my_imgs = np.asarray(my_imgs)\n",
    "my_images_gry2 = np.sum(my_imgs/3, axis=3, keepdims=True)\n",
    "\n",
    "my_images_normalized2 = (my_images_gry2 - 128)/128\n",
    "print(my_images_normalized2.shape)\n",
    "my_labels = [31]\n",
    "\n",
    "softmax_logits = tf.nn.softmax(logits)\n",
    "top_k = tf.nn.top_k(softmax_logits, k=1)\n",
    "\n",
    "with tf.Session() as sess:\n",
    "    sess.run(tf.global_variables_initializer())\n",
    "    saver3 = tf.train.import_meta_graph('./lenet.meta')\n",
    "    saver3.restore(sess, \"./lenet\")\n",
    "    my_accuracy = evaluate(my_images_normalized2, my_labels)\n",
    "    \n",
    "    my_top_k = sess.run(top_k, feed_dict={x: my_images_normalized2, dropout: 1.0})\n",
    "    print(\"Guess for first image(wild animal crossing) expected:\", my_labels[0], \" prediction:\", my_top_k[1][0][0])\n",
    "    \n",
    "    print(\"My Set Accuracy = {:.3f}\".format(my_accuracy))\n",
    "    print(my_accuracy*100, \"%\")"
   ]
  },
  {
   "cell_type": "markdown",
   "metadata": {},
   "source": [
    "### Output Top 5 Softmax Probabilities For Each Image Found on the Web"
   ]
  },
  {
   "cell_type": "markdown",
   "metadata": {},
   "source": [
    "For each of the new images, print out the model's softmax probabilities to show the **certainty** of the model's predictions (limit the output to the top 5 probabilities for each image). [`tf.nn.top_k`](https://www.tensorflow.org/versions/r0.12/api_docs/python/nn.html#top_k) could prove helpful here. \n",
    "\n",
    "The example below demonstrates how tf.nn.top_k can be used to find the top k predictions for each image.\n",
    "\n",
    "`tf.nn.top_k` will return the values and indices (class ids) of the top k predictions. So if k=3, for each sign, it'll return the 3 largest probabilities (out of a possible 43) and the correspoding class ids.\n",
    "\n",
    "Take this numpy array as an example. The values in the array represent predictions. The array contains softmax probabilities for five candidate images with six possible classes. `tf.nn.top_k` is used to choose the three classes with the highest probability:\n",
    "\n",
    "```\n",
    "# (5, 6) array\n",
    "a = np.array([[ 0.24879643,  0.07032244,  0.12641572,  0.34763842,  0.07893497,\n",
    "         0.12789202],\n",
    "       [ 0.28086119,  0.27569815,  0.08594638,  0.0178669 ,  0.18063401,\n",
    "         0.15899337],\n",
    "       [ 0.26076848,  0.23664738,  0.08020603,  0.07001922,  0.1134371 ,\n",
    "         0.23892179],\n",
    "       [ 0.11943333,  0.29198961,  0.02605103,  0.26234032,  0.1351348 ,\n",
    "         0.16505091],\n",
    "       [ 0.09561176,  0.34396535,  0.0643941 ,  0.16240774,  0.24206137,\n",
    "         0.09155967]])\n",
    "```\n",
    "\n",
    "Running it through `sess.run(tf.nn.top_k(tf.constant(a), k=3))` produces:\n",
    "\n",
    "```\n",
    "TopKV2(values=array([[ 0.34763842,  0.24879643,  0.12789202],\n",
    "       [ 0.28086119,  0.27569815,  0.18063401],\n",
    "       [ 0.26076848,  0.23892179,  0.23664738],\n",
    "       [ 0.29198961,  0.26234032,  0.16505091],\n",
    "       [ 0.34396535,  0.24206137,  0.16240774]]), indices=array([[3, 0, 5],\n",
    "       [0, 1, 4],\n",
    "       [0, 5, 1],\n",
    "       [1, 3, 5],\n",
    "       [1, 4, 3]], dtype=int32))\n",
    "```\n",
    "\n",
    "Looking just at the first row we get `[ 0.34763842,  0.24879643,  0.12789202]`, you can confirm these are the 3 largest probabilities in `a`. You'll also notice `[3, 0, 5]` are the corresponding indices."
   ]
  },
  {
   "cell_type": "markdown",
   "metadata": {},
   "source": [
    "### The code bit below shows the guesses our network had for each of the images found on the web for traffic signs. \n",
    "### Using the softmax and top_k functions we extract the top 3 guesses and display them next to the original image. The network is 100% sure on all but one image where it places the probability at 99%."
   ]
  },
  {
   "cell_type": "code",
   "execution_count": 43,
   "metadata": {},
   "outputs": [
    {
     "name": "stdout",
     "output_type": "stream",
     "text": [
      "INFO:tensorflow:Restoring parameters from ./lenet\n"
     ]
    },
    {
     "data": {
      "image/png": "[encoded data removed]",
      "text/plain": [
       "<matplotlib.figure.Figure at 0x196db4833c8>"
      ]
     },
     "metadata": {},
     "output_type": "display_data"
    }
   ],
   "source": [
    "### Print out the top five softmax probabilities for the predictions on the German traffic sign images found on the web. \n",
    "### Feel free to use as many code cells as needed.\n",
    "\n",
    "softmax_logits = tf.nn.softmax(logits)\n",
    "top_k = tf.nn.top_k(softmax_logits, k=3)\n",
    "\n",
    "\n",
    "with tf.Session() as sess:\n",
    "    sess.run(tf.global_variables_initializer())\n",
    "    saver = tf.train.import_meta_graph('./lenet.meta')\n",
    "    saver.restore(sess, \"./lenet\")\n",
    "    my_softmax_logits = sess.run(softmax_logits, feed_dict={x: my_images_normalized, dropout: 1.0})\n",
    "    my_top_k = sess.run(top_k, feed_dict={x: my_images_normalized, dropout: 1.0})\n",
    "\n",
    "    \n",
    "    fig, axs = plt.subplots(len(my_images),4, figsize=(12, 14))\n",
    "    fig.subplots_adjust(hspace = .4, wspace=.2)\n",
    "    axs = axs.ravel()\n",
    "\n",
    "    for i, image in enumerate(my_images):\n",
    "        axs[4*i].axis('off')\n",
    "        axs[4*i].imshow(cv2.cvtColor(image, cv2.COLOR_BGR2RGB))\n",
    "        axs[4*i].set_title('input')\n",
    "        guess1 = my_top_k[1][i][0]\n",
    "        index1 = np.argwhere(y_validation == guess1)[0]\n",
    "        axs[4*i+1].axis('off')\n",
    "        axs[4*i+1].imshow(X_validation[index1].squeeze(), cmap='gray')\n",
    "        axs[4*i+1].set_title('top guess: {} ({:.0f}%)'.format(guess1, 100*my_top_k[0][i][0]))\n",
    "        guess2 = my_top_k[1][i][1]\n",
    "        index2 = np.argwhere(y_validation == guess2)[0]\n",
    "        axs[4*i+2].axis('off')\n",
    "        axs[4*i+2].imshow(X_validation[index2].squeeze(), cmap='gray')\n",
    "        axs[4*i+2].set_title('2nd guess: {} ({:.0f}%)'.format(guess2, 100*my_top_k[0][i][1]))\n",
    "        guess3 = my_top_k[1][i][2]\n",
    "        index3 = np.argwhere(y_validation == guess3)[0]\n",
    "        axs[4*i+3].axis('off')\n",
    "        axs[4*i+3].imshow(X_validation[index3].squeeze(), cmap='gray')\n",
    "        axs[4*i+3].set_title('3rd guess: {} ({:.0f}%)'.format(guess3, 100*my_top_k[0][i][2]))"
   ]
  }
 ],
 "metadata": {
  "anaconda-cloud": {},
  "kernelspec": {
   "display_name": "Python 3",
   "language": "python",
   "name": "python3"
  },
  "language_info": {
   "codemirror_mode": {
    "name": "ipython",
    "version": 3
   },
   "file_extension": ".py",
   "mimetype": "text/x-python",
   "name": "python",
   "nbconvert_exporter": "python",
   "pygments_lexer": "ipython3",
   "version": "3.5.2"
  },
  "widgets": {
   "state": {},
   "version": "1.1.2"
  }
 },
 "nbformat": 4,
 "nbformat_minor": 1
}
